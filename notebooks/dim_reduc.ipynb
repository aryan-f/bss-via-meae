{
 "cells": [
  {
   "cell_type": "code",
   "id": "initial_id",
   "metadata": {
    "collapsed": true,
    "ExecuteTime": {
     "end_time": "2024-06-09T22:02:50.329504Z",
     "start_time": "2024-06-09T22:02:50.220984Z"
    }
   },
   "source": "import numpy as np",
   "outputs": [],
   "execution_count": 1
  },
  {
   "metadata": {
    "ExecuteTime": {
     "end_time": "2024-06-09T22:06:06.477640Z",
     "start_time": "2024-06-09T22:06:06.469660Z"
    }
   },
   "cell_type": "code",
   "source": "data = np.load('../data/BCC.augmented.npz')",
   "id": "3726bcb5804e2662",
   "outputs": [],
   "execution_count": 5
  },
  {
   "metadata": {
    "ExecuteTime": {
     "end_time": "2024-06-09T22:06:13.702749Z",
     "start_time": "2024-06-09T22:06:13.636110Z"
    }
   },
   "cell_type": "code",
   "source": [
    "X_train = data['X_train']\n",
    "y_train = data['y_train']"
   ],
   "id": "3dda2fbe3f05908c",
   "outputs": [],
   "execution_count": 6
  },
  {
   "metadata": {
    "ExecuteTime": {
     "end_time": "2024-06-09T22:08:30.117096Z",
     "start_time": "2024-06-09T22:08:26.687362Z"
    }
   },
   "cell_type": "code",
   "source": "from sklearn.feature_selection import SelectKBest",
   "id": "b93665b030583a43",
   "outputs": [],
   "execution_count": 7
  },
  {
   "metadata": {
    "ExecuteTime": {
     "end_time": "2024-06-09T22:08:54.453345Z",
     "start_time": "2024-06-09T22:08:54.367141Z"
    }
   },
   "cell_type": "code",
   "source": "selector = SelectKBest(k=768).fit(X_train, y_train)",
   "id": "a496d87f62b84f09",
   "outputs": [],
   "execution_count": 8
  },
  {
   "metadata": {
    "ExecuteTime": {
     "end_time": "2024-06-09T22:09:50.007806Z",
     "start_time": "2024-06-09T22:09:49.938277Z"
    }
   },
   "cell_type": "code",
   "source": "selector.transform(X_train).shape",
   "id": "64e8f8db65d29a0d",
   "outputs": [
    {
     "data": {
      "text/plain": [
       "(6764, 768)"
      ]
     },
     "execution_count": 11,
     "metadata": {},
     "output_type": "execute_result"
    }
   ],
   "execution_count": 11
  },
  {
   "metadata": {
    "ExecuteTime": {
     "end_time": "2024-06-09T22:10:46.412534Z",
     "start_time": "2024-06-09T22:10:46.399536Z"
    }
   },
   "cell_type": "code",
   "source": "li = [int(el[1:]) for el in selector.get_feature_names_out().tolist()]",
   "id": "2f97a81d0b83e46f",
   "outputs": [],
   "execution_count": 15
  },
  {
   "metadata": {
    "ExecuteTime": {
     "end_time": "2024-06-09T22:10:51.715153Z",
     "start_time": "2024-06-09T22:10:51.702111Z"
    }
   },
   "cell_type": "code",
   "source": "len(li)",
   "id": "f4e001d6c7da3d2a",
   "outputs": [
    {
     "data": {
      "text/plain": [
       "768"
      ]
     },
     "execution_count": 17,
     "metadata": {},
     "output_type": "execute_result"
    }
   ],
   "execution_count": 17
  },
  {
   "metadata": {
    "ExecuteTime": {
     "end_time": "2024-06-09T22:11:07.217932Z",
     "start_time": "2024-06-09T22:11:07.198299Z"
    }
   },
   "cell_type": "code",
   "source": "import pickle",
   "id": "3ffe5d629815fca9",
   "outputs": [],
   "execution_count": 18
  },
  {
   "metadata": {
    "ExecuteTime": {
     "end_time": "2024-06-09T22:11:21.283359Z",
     "start_time": "2024-06-09T22:11:21.277341Z"
    }
   },
   "cell_type": "code",
   "source": [
    "with open('../data/BCC.feat.pkl', 'wb') as f:\n",
    "    pickle.dump(li, f)"
   ],
   "id": "f6bde3e83fae738",
   "outputs": [],
   "execution_count": 19
  },
  {
   "metadata": {},
   "cell_type": "code",
   "outputs": [],
   "execution_count": null,
   "source": "",
   "id": "b061f9cb1d859691"
  }
 ],
 "metadata": {
  "kernelspec": {
   "display_name": "Python 3",
   "language": "python",
   "name": "python3"
  },
  "language_info": {
   "codemirror_mode": {
    "name": "ipython",
    "version": 2
   },
   "file_extension": ".py",
   "mimetype": "text/x-python",
   "name": "python",
   "nbconvert_exporter": "python",
   "pygments_lexer": "ipython2",
   "version": "2.7.6"
  }
 },
 "nbformat": 4,
 "nbformat_minor": 5
}
