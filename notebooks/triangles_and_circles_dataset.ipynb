{
 "cells": [
  {
   "cell_type": "code",
   "metadata": {
    "ExecuteTime": {
     "end_time": "2024-06-08T22:54:49.265477Z",
     "start_time": "2024-06-08T22:54:47.750259Z"
    }
   },
   "source": [
    "from PIL import Image, ImageDraw\n",
    "import numpy as np\n",
    "from random import randrange, uniform\n",
    "from scipy.signal import convolve2d\n",
    "\n",
    "%matplotlib inline\n",
    "import matplotlib.pyplot as plt\n",
    "\n",
    "def draw_random_circle(image, image_size, color, min_width=64, max_width=128):\n",
    "    width = randrange(min_width, max_width)\n",
    "    x0, y0 = randrange(0, image_size-width), randrange(0, image_size-width)\n",
    "    \n",
    "    draw = ImageDraw.Draw(image)\n",
    "    draw.ellipse((x0, y0, x0+width, y0+width), fill=color, outline=(0, 0, 0), width=0)\n",
    "    \n",
    "def draw_random_triangle(image, image_size, color, min_width=64, max_width=128):\n",
    "    width = randrange(min_width, max_width)\n",
    "    x0, y0 = randrange(0, image_size-width), randrange(0, image_size-width)\n",
    "    x1, y1 = x0+(width//2), int(y0+(width*3**0.5)/2)\n",
    "    x2, y2 = x0+width, y0\n",
    "    draw = ImageDraw.Draw(image)\n",
    "    draw.polygon(((x0, y0), (x1, y1), (x2, y2)), fill=color, outline=(0, 0, 0), width=0)\n",
    "\n",
    "def sigmoid(x):\n",
    "    return 1/(1 + np.exp(-x) + 1e-6)\n",
    "\n",
    "def generate_image(image_size=128):\n",
    "    # draw random circle\n",
    "    image_c = Image.new('RGB', (image_size*2, image_size*2), (0, 0, 0))\n",
    "    draw_random_circle(image_c, image_size*2, \n",
    "                       min_width=int(image_size*2*0.4), max_width=int(image_size*2*0.6),\n",
    "                       color=(255, 255, 255))\n",
    "    image_c = np.array(image_c).astype(np.float32)/255\n",
    "    # draw random triangle\n",
    "    image_t = Image.new('RGB', (image_size*2, image_size*2), (0, 0, 0))\n",
    "    draw_random_triangle(image_t, image_size*2, \n",
    "                         min_width=int(image_size*2*0.4), max_width=int(image_size*2*0.6),\n",
    "                         color=(255, 255, 255))\n",
    "    image_t = np.array(image_t).astype(np.float32)/255\n",
    "\n",
    "    # resize image\n",
    "    image_c = Image.fromarray(np.uint8(image_c*0.5*255))\n",
    "    image_t = Image.fromarray(np.uint8(image_t*0.5*255))\n",
    "    image_c = image_c.resize((image_size, image_size), resample=Image.BILINEAR)\n",
    "    image_t = image_t.resize((image_size, image_size), resample=Image.BILINEAR)\n",
    "    image_c = np.array(image_c)[:, :, 0]\n",
    "    image_t = np.array(image_t)[:, :, 0]\n",
    "    image = image_c + image_t\n",
    "    \n",
    "    kernel = np.array( # distortion kernel\n",
    "        [[1.0, 1.0, 0.0, 0.0, 0.0],\n",
    "         [0.0, 0.0, 0.5, 1.0, 0.5],\n",
    "         [0.0, 0.0, 0.0, 0.5, 1.0],\n",
    "         [0.0, 0.0, 0.5, 1.0, 0.5],\n",
    "         [1.0, 1.0, 0.0, 0.0, 0.0]]\n",
    "    )\n",
    "    if uniform(0, 1) < 0.5:\n",
    "        kernel = kernel[::-1, ::-1]\n",
    "    \n",
    "    image = image/255\n",
    "    image = sigmoid(image*6)\n",
    "    image = (image - np.min(image))/ (np.max(image) - np.min(image))\n",
    "    image = convolve2d(image, kernel, mode='same')\n",
    "\n",
    "    return [image.reshape(image.shape[0], image.shape[1], 1), \n",
    "            image_c.reshape(image_c.shape[0], image_c.shape[1], 1), \n",
    "            image_t.reshape(image_t.shape[0], image_t.shape[1], 1)]\n",
    "\n",
    "sample, circle, triangle = generate_image(64)\n",
    "\n",
    "from mpl_toolkits.axes_grid1 import ImageGrid\n",
    "fig = plt.figure(figsize=(6, 6))\n",
    "grid = ImageGrid(fig, 111,\n",
    "                 nrows_ncols=(1, 3),\n",
    "                 axes_pad=0.1,\n",
    "                 )\n",
    "\n",
    "labels = ['Mixed', 'Circle', 'Triangle']\n",
    "for ax, im, label in zip(grid, [sample, circle, triangle], labels):\n",
    "    ax.set_title(label)\n",
    "    ax.set_xticks([])\n",
    "    ax.set_yticks([])\n",
    "    ax.imshow(im, cmap='gray')\n",
    "\n",
    "plt.show()"
   ],
   "outputs": [
    {
     "data": {
      "text/plain": [
       "<Figure size 600x600 with 6 Axes>"
      ],
      "image/png": "[encoded data removed]"
     },
     "metadata": {},
     "output_type": "display_data"
    }
   ],
   "execution_count": 1
  },
  {
   "cell_type": "code",
   "metadata": {
    "ExecuteTime": {
     "end_time": "2024-06-08T23:00:30.364919Z",
     "start_time": "2024-06-08T22:54:49.267479Z"
    }
   },
   "source": [
    "import pickle\n",
    "from tqdm import trange\n",
    "\n",
    "num_samples = 150000\n",
    "image_size = 64\n",
    "\n",
    "data = []\n",
    "for _ in trange(num_samples):\n",
    "    data.append(generate_image(image_size))\n",
    "\n",
    "file_name = '../data/single_channel_nonlinear_mixing_tri_circ.pickle'\n",
    "with open(file=file_name, mode='wb') as file:\n",
    "    pickle.dump(data, file)"
   ],
   "outputs": [
    {
     "name": "stderr",
     "output_type": "stream",
     "text": [
      "100%|██████████| 150000/150000 [04:01<00:00, 620.32it/s]\n"
     ]
    }
   ],
   "execution_count": 2
  }
 ],
 "metadata": {
  "kernelspec": {
   "display_name": "torch_113",
   "language": "python",
   "name": "python3"
  },
  "language_info": {
   "codemirror_mode": {
    "name": "ipython",
    "version": 3
   },
   "file_extension": ".py",
   "mimetype": "text/x-python",
   "name": "python",
   "nbconvert_exporter": "python",
   "pygments_lexer": "ipython3",
   "version": "3.10.6"
  },
  "orig_nbformat": 4,
  "vscode": {
   "interpreter": {
    "hash": "a0dcaf9072647c9af1771d45b275007761bee22e8c1ce8e0659444379c33e1bc"
   }
  }
 },
 "nbformat": 4,
 "nbformat_minor": 2
}
